{
 "cells": [
  {
   "cell_type": "markdown",
   "metadata": {},
   "source": [
    "# Book Of Python\n",
    "\n",
    "By Graham Lancaster\n",
    "\n",
    "## Overview\n",
    "\n",
    "This book provides practical insights into Python programming, including code snippets, essential libraries, and language nuances. It's highly recommended to code along with the examples provided to enhance your learning experience. Topics covered include:\n",
    "\n",
    "- Best Practices\n",
    "- Modularization\n",
    "- Keyboard Shortcuts\n",
    "- Built-ins\n",
    "- Essential Tools\n",
    "- Code Optimization\n",
    "- Automation\n",
    "\n",
    "## About the Author\n",
    "\n",
    "I've been self-teaching coding since 2019, discovering its potential to craft creative projects that enhance daily life. While Python is my primary language, I also have experience in C, C++, C#, LabVIEW, Matlab, and HTML/CSS. Currently, I'm seeking to expand my expertise and undertake projects in C++.\n",
    "\n",
    "## Setup\n",
    "\n",
    "As of writing, I utilize Python 3.12.1 and Visual Studio Code for my coding endeavors."
   ]
  },
  {
   "cell_type": "markdown",
   "metadata": {},
   "source": [
    "# Built - ins"
   ]
  },
  {
   "cell_type": "markdown",
   "metadata": {},
   "source": [
    "### Let's Print Strings"
   ]
  },
  {
   "cell_type": "markdown",
   "metadata": {},
   "source": [
    "Here's a basic Hello World that you can write in Python. This will get printed out into the window below. "
   ]
  },
  {
   "cell_type": "code",
   "execution_count": 47,
   "metadata": {},
   "outputs": [
    {
     "name": "stdout",
     "output_type": "stream",
     "text": [
      "Hello World\n",
      "HelloWorld\n",
      "Hello World\n"
     ]
    }
   ],
   "source": [
    "print(\"Hello World\")        # \"Hello World\"\n",
    "print(\"Hello\" + \"World\")    # No Space Betwen \"Hello\" and \"World\"\n",
    "print(\"Hello\", \"World\")     # Space Between \"Hello\" and \"World\""
   ]
  },
  {
   "cell_type": "markdown",
   "metadata": {},
   "source": [
    "You can pass in variables to be printed out using f-strings. Also, you can control how the output will look like. This is very helpful for debugging code. "
   ]
  },
  {
   "cell_type": "code",
   "execution_count": 48,
   "metadata": {},
   "outputs": [
    {
     "name": "stdout",
     "output_type": "stream",
     "text": [
      "Hello World\n",
      "39.239\n",
      "39.2\n",
      "49.239\n"
     ]
    }
   ],
   "source": [
    "message = \"Hello\"\n",
    "number = 39.239\n",
    "print(f\"{message} World\")\n",
    "print(f\"{number}\")          # Read in number as is\n",
    "print(f\"{number:.1f}\")      # Limit number to one decimal place\n",
    "print(f\"{number + 10}\")      # Evalulate inside the brackets\n"
   ]
  },
  {
   "cell_type": "markdown",
   "metadata": {},
   "source": [
    "The modulo % operator can be used as well"
   ]
  },
  {
   "cell_type": "code",
   "execution_count": 49,
   "metadata": {},
   "outputs": [
    {
     "name": "stdout",
     "output_type": "stream",
     "text": [
      "Hello Brad\n",
      "Brad is 29 years old\n",
      "Age: 29\n",
      "Age:    29\n"
     ]
    }
   ],
   "source": [
    "name = \"Brad\"\n",
    "age = 29\n",
    "print(\"Hello %s\" % name)\n",
    "print(\"%s is %s years old\" % (name, age))\n",
    "print(\"Age: %(age)s\\nAge: %(age)5s\" % {\"age\" : age}) # It can read dictionaries and shift strings hence the \"5\"\n"
   ]
  },
  {
   "cell_type": "markdown",
   "metadata": {},
   "source": [
    "Other special string operations"
   ]
  },
  {
   "cell_type": "code",
   "execution_count": 50,
   "metadata": {},
   "outputs": [
    {
     "name": "stdout",
     "output_type": "stream",
     "text": [
      "$183,984,943.35\n",
      "183_984_943.34893\n",
      "largenumber= 183984943.34893\n"
     ]
    }
   ],
   "source": [
    "largenumber = 183984943.34893\n",
    "print(f\"${largenumber:,.2f}\")\n",
    "print(f\"{largenumber:{\"_\"}}\")\n",
    "print(f\"{largenumber= }\")"
   ]
  },
  {
   "cell_type": "code",
   "execution_count": 51,
   "metadata": {},
   "outputs": [
    {
     "name": "stdout",
     "output_type": "stream",
     "text": [
      "------------Title-------------\n"
     ]
    }
   ],
   "source": [
    "print(f\"{\"Title\":-^30}\")"
   ]
  },
  {
   "cell_type": "markdown",
   "metadata": {},
   "source": [
    "Date Strings"
   ]
  },
  {
   "cell_type": "code",
   "execution_count": 52,
   "metadata": {},
   "outputs": [
    {
     "name": "stdout",
     "output_type": "stream",
     "text": [
      "09/05/2023\n"
     ]
    }
   ],
   "source": [
    "date = (9,5,2023)\n",
    "print(f\"{date[0]:02}/{date[1]:02}/{date[2]}\")"
   ]
  },
  {
   "cell_type": "code",
   "execution_count": 3,
   "metadata": {},
   "outputs": [
    {
     "name": "stdout",
     "output_type": "stream",
     "text": [
      "03/15/2043 at 04:23 PM which is on a Sunday in March\n"
     ]
    }
   ],
   "source": [
    "from datetime import datetime\n",
    "date = datetime(2043, 3, 15, 16, 23)\n",
    "print(f\"{date:%m/%d/%Y} at {date:%I:%M %p} which is on a {date:%A} in {date:%B}\")"
   ]
  },
  {
   "cell_type": "markdown",
   "metadata": {},
   "source": [
    "Find where things happen in a string "
   ]
  },
  {
   "cell_type": "code",
   "execution_count": 6,
   "metadata": {},
   "outputs": [
    {
     "name": "stdout",
     "output_type": "stream",
     "text": [
      "13\n",
      "-1\n"
     ]
    }
   ],
   "source": [
    "message = \"Hello, it is nice out today\"\n",
    "\n",
    "print(message.find(\"nice\"))\n",
    "print(message.find(\"rainy\"))"
   ]
  },
  {
   "cell_type": "markdown",
   "metadata": {},
   "source": [
    "Replace a string with another string"
   ]
  },
  {
   "cell_type": "code",
   "execution_count": 3,
   "metadata": {},
   "outputs": [
    {
     "data": {
      "text/plain": [
       "['quickly']"
      ]
     },
     "execution_count": 3,
     "metadata": {},
     "output_type": "execute_result"
    }
   ],
   "source": [
    "import re\n",
    "\n",
    "message = \"The boat trip went by quickly\"\n",
    "re.findall(r\"\\w+ly\\b\", message)"
   ]
  },
  {
   "cell_type": "code",
   "execution_count": 13,
   "metadata": {},
   "outputs": [
    {
     "data": {
      "text/plain": [
       "['Hey', 'John', 'how', 'are', 'you']"
      ]
     },
     "execution_count": 13,
     "metadata": {},
     "output_type": "execute_result"
    }
   ],
   "source": [
    "import re \n",
    "\n",
    "message = \"Hey John, how are you\"\n",
    "message.split(',')\n",
    "message.split()\n",
    "re.split(' |, ', message)"
   ]
  },
  {
   "cell_type": "code",
   "execution_count": 20,
   "metadata": {},
   "outputs": [
    {
     "data": {
      "text/plain": [
       "'or you can break it up like this using the backslash symbol. very neat indeed'"
      ]
     },
     "execution_count": 20,
     "metadata": {},
     "output_type": "execute_result"
    }
   ],
   "source": [
    "longtext = (\"my view on this sentence is \" \n",
    "            \"that it is very long \" \n",
    "            \"but you can break it up like this.\")\n",
    "longmessage = \"or you can break it up like this \" \\\n",
    "            \"using the backslash symbol. \" \\\n",
    "            \"very neat indeed\"\n",
    "longmessage"
   ]
  },
  {
   "cell_type": "code",
   "execution_count": 21,
   "metadata": {},
   "outputs": [
    {
     "data": {
      "text/plain": [
       "['Frenchie']"
      ]
     },
     "execution_count": 21,
     "metadata": {},
     "output_type": "execute_result"
    }
   ],
   "source": [
    "from difflib import get_close_matches\n",
    "\n",
    "dogs = ['Frenchie', 'Lab', 'Corgi', 'Bulldog']\n",
    "get_close_matches('Frencher', dogs)"
   ]
  },
  {
   "cell_type": "markdown",
   "metadata": {},
   "source": [
    "## Numbers"
   ]
  },
  {
   "cell_type": "code",
   "execution_count": 1,
   "metadata": {},
   "outputs": [
    {
     "name": "stdout",
     "output_type": "stream",
     "text": [
      "15\n",
      "15\n"
     ]
    }
   ],
   "source": [
    "firstNum = 10\n",
    "secondNum = 5\n",
    "\n",
    "print(10+5)\n",
    "print(firstNum + secondNum)"
   ]
  },
  {
   "cell_type": "code",
   "execution_count": 3,
   "metadata": {},
   "outputs": [
    {
     "data": {
      "text/plain": [
       "1.5"
      ]
     },
     "execution_count": 3,
     "metadata": {},
     "output_type": "execute_result"
    }
   ],
   "source": [
    "3/2   # Long Division\n"
   ]
  },
  {
   "cell_type": "code",
   "execution_count": 4,
   "metadata": {},
   "outputs": [
    {
     "data": {
      "text/plain": [
       "1"
      ]
     },
     "execution_count": 4,
     "metadata": {},
     "output_type": "execute_result"
    }
   ],
   "source": [
    "3//2  # Floor Division"
   ]
  },
  {
   "cell_type": "code",
   "execution_count": 6,
   "metadata": {},
   "outputs": [
    {
     "data": {
      "text/plain": [
       "16"
      ]
     },
     "execution_count": 6,
     "metadata": {},
     "output_type": "execute_result"
    }
   ],
   "source": [
    "4*2\n",
    "4**2"
   ]
  },
  {
   "cell_type": "code",
   "execution_count": 10,
   "metadata": {},
   "outputs": [
    {
     "data": {
      "text/plain": [
       "True"
      ]
     },
     "execution_count": 10,
     "metadata": {},
     "output_type": "execute_result"
    }
   ],
   "source": [
    "longNum = 348320239304\n",
    "longNumber = 348_320_239_304\n",
    "longNumber == longNum"
   ]
  },
  {
   "cell_type": "code",
   "execution_count": 12,
   "metadata": {},
   "outputs": [
    {
     "name": "stdout",
     "output_type": "stream",
     "text": [
      "True\n",
      "True\n",
      "False\n"
     ]
    }
   ],
   "source": [
    "from numbers import Number\n",
    "a = 6\n",
    "b = 3.5\n",
    "c = 'string'\n",
    "\n",
    "print(isinstance(a,Number))\n",
    "print(isinstance(b,Number))\n",
    "print(isinstance(c,Number))"
   ]
  },
  {
   "cell_type": "code",
   "execution_count": 13,
   "metadata": {},
   "outputs": [
    {
     "data": {
      "text/plain": [
       "1"
      ]
     },
     "execution_count": 13,
     "metadata": {},
     "output_type": "execute_result"
    }
   ],
   "source": [
    "9 % 4"
   ]
  },
  {
   "cell_type": "markdown",
   "metadata": {},
   "source": [
    "# Classes"
   ]
  },
  {
   "cell_type": "markdown",
   "metadata": {},
   "source": [
    "You can influence and have a shortcut to print out __str__ and __repr__ representations of a class object"
   ]
  },
  {
   "cell_type": "code",
   "execution_count": 54,
   "metadata": {},
   "outputs": [
    {
     "name": "stdout",
     "output_type": "stream",
     "text": [
      "User Friendly ::: Hello Bug, you are a Frenchie\n",
      "Developer Friendly ::: Dog(name='Bug', breed=Frenchie)\n"
     ]
    }
   ],
   "source": [
    "class Dog:\n",
    "    def __init__(self, name, breed):\n",
    "        self.name = name\n",
    "        self.breed = breed\n",
    "    def __str__(self):\n",
    "        return f\"Hello {self.name}, you are a {self.breed}\"\n",
    "    def __repr__(self):\n",
    "        return f\"{type(self).__name__}(name='{self.name}', breed={self.breed})\"\n",
    "\n",
    "firstDog = Dog(\"Bug\", \"Frenchie\")\n",
    "\n",
    "print(f\"User Friendly ::: {firstDog!s}\")\n",
    "print(f\"Developer Friendly ::: {firstDog!r}\")"
   ]
  },
  {
   "cell_type": "markdown",
   "metadata": {},
   "source": [
    "# Helpful Snippets"
   ]
  },
  {
   "cell_type": "code",
   "execution_count": 14,
   "metadata": {},
   "outputs": [
    {
     "data": {
      "text/plain": [
       "[3, 9, 12, 15]"
      ]
     },
     "execution_count": 14,
     "metadata": {},
     "output_type": "execute_result"
    }
   ],
   "source": [
    "def getMultiples(numList : list, num : int) -> list:\n",
    "    \"\"\"Gets the mutliples of num that exist in numList\n",
    "\n",
    "    Args:\n",
    "        numList (list): list of numbers\n",
    "        num (int): number to get multiple of\n",
    "\n",
    "    Returns:\n",
    "        list: list of numbers that are multiples of num\n",
    "    \"\"\"\n",
    "    return [x for x in numList if x % num == 0]\n",
    "\n",
    "numbers = [2,3,5,7,9,12,15]\n",
    "getMultiples(numbers, 3)"
   ]
  },
  {
   "cell_type": "markdown",
   "metadata": {},
   "source": [
    "# References\n",
    "[khuyentran1401.github.io](https://khuyentran1401.github.io/Efficient_Python_tricks_and_tools_for_data_scientists/README.html)\n",
    "[F-Strings](https://realpython.com/python-f-strings/)"
   ]
  }
 ],
 "metadata": {
  "kernelspec": {
   "display_name": "Python 3",
   "language": "python",
   "name": "python3"
  },
  "language_info": {
   "codemirror_mode": {
    "name": "ipython",
    "version": 3
   },
   "file_extension": ".py",
   "mimetype": "text/x-python",
   "name": "python",
   "nbconvert_exporter": "python",
   "pygments_lexer": "ipython3",
   "version": "3.12.1"
  }
 },
 "nbformat": 4,
 "nbformat_minor": 2
}
