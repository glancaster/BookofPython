{
 "cells": [
  {
   "cell_type": "markdown",
   "metadata": {},
   "source": [
    "# Book Of Python\n",
    "\n",
    "By Graham Lancaster\n",
    "\n",
    "## Overview\n",
    "\n",
    "This book provides practical insights into Python programming, including code snippets, essential libraries, and language nuances. It's highly recommended to code along with the examples provided to enhance your learning experience. Topics covered include:\n",
    "\n",
    "- Best Practices\n",
    "- Modularization\n",
    "- Keyboard Shortcuts\n",
    "- Built-ins\n",
    "- Essential Tools\n",
    "- Code Optimization\n",
    "- Automation\n",
    "\n",
    "## About the Author\n",
    "\n",
    "I've been self-teaching coding since 2019, discovering its potential to craft creative projects that enhance daily life. While Python is my primary language, I also have experience in C, C++, C#, LabVIEW, Matlab, and HTML/CSS. Currently, I'm seeking to expand my expertise and undertake projects in C++.\n",
    "\n",
    "## Setup\n",
    "\n",
    "As of writing, I utilize Python 3.12.1 and Visual Studio Code for my coding endeavors."
   ]
  },
  {
   "cell_type": "markdown",
   "metadata": {},
   "source": [
    "# Built - ins"
   ]
  },
  {
   "cell_type": "markdown",
   "metadata": {},
   "source": [
    "### Let's Print Strings"
   ]
  },
  {
   "cell_type": "markdown",
   "metadata": {},
   "source": [
    "Here's a basic Hello World that you can write in Python. This will get printed out into the window below. "
   ]
  },
  {
   "cell_type": "code",
   "execution_count": 27,
   "metadata": {},
   "outputs": [
    {
     "name": "stdout",
     "output_type": "stream",
     "text": [
      "Hello World\n",
      "HelloWorld\n",
      "Hello World\n"
     ]
    }
   ],
   "source": [
    "print(\"Hello World\")        # \"Hello World\"\n",
    "print(\"Hello\" + \"World\")    # No Space Betwen \"Hello\" and \"World\"\n",
    "print(\"Hello\", \"World\")     # Space Between \"Hello\" and \"World\""
   ]
  },
  {
   "cell_type": "markdown",
   "metadata": {},
   "source": [
    "You can pass in variables to be printed out using f-strings. Also, you can control how the output will look like. This is very helpful for debugging code. "
   ]
  },
  {
   "cell_type": "code",
   "execution_count": 28,
   "metadata": {},
   "outputs": [
    {
     "name": "stdout",
     "output_type": "stream",
     "text": [
      "Hello World\n",
      "39.239\n",
      "39.2\n",
      "49.239\n"
     ]
    }
   ],
   "source": [
    "message = \"Hello\"\n",
    "number = 39.239\n",
    "print(f\"{message} World\")\n",
    "print(f\"{number}\")          # Read in number as is\n",
    "print(f\"{number:.1f}\")      # Limit number to one decimal place\n",
    "print(f\"{number + 10}\")      # Evalulate inside the brackets\n"
   ]
  },
  {
   "cell_type": "markdown",
   "metadata": {},
   "source": [
    "The modulo % operator can be used as well"
   ]
  },
  {
   "cell_type": "code",
   "execution_count": 29,
   "metadata": {},
   "outputs": [
    {
     "name": "stdout",
     "output_type": "stream",
     "text": [
      "Hello Brad\n",
      "Brad is 29 years old\n",
      "Age: 29\n",
      "Age:    29\n"
     ]
    }
   ],
   "source": [
    "name = \"Brad\"\n",
    "age = 29\n",
    "print(\"Hello %s\" % name)\n",
    "print(\"%s is %s years old\" % (name, age))\n",
    "print(\"Age: %(age)s\\nAge: %(age)5s\" % {\"age\" : age}) # It can read dictionaries and shift strings hence the \"5\"\n"
   ]
  },
  {
   "cell_type": "markdown",
   "metadata": {},
   "source": [
    "Other special string operations"
   ]
  },
  {
   "cell_type": "code",
   "execution_count": 30,
   "metadata": {},
   "outputs": [
    {
     "name": "stdout",
     "output_type": "stream",
     "text": [
      "$183984943.35\n",
      "183,984,943.35\n",
      "183_984_943.34893\n"
     ]
    }
   ],
   "source": [
    "largenumber = 183984943.34893\n",
    "print(f\"${largenumber:.2f}\")\n",
    "print(f\"{largenumber:,.2f}\")\n",
    "print(f\"{largenumber:{\"_\"}}\")"
   ]
  },
  {
   "cell_type": "code",
   "execution_count": 31,
   "metadata": {},
   "outputs": [
    {
     "name": "stdout",
     "output_type": "stream",
     "text": [
      "------------Title-------------\n"
     ]
    }
   ],
   "source": [
    "print(f\"{\"Title\":-^30}\")"
   ]
  },
  {
   "cell_type": "markdown",
   "metadata": {},
   "source": [
    "Date Strings"
   ]
  },
  {
   "cell_type": "code",
   "execution_count": 32,
   "metadata": {},
   "outputs": [
    {
     "name": "stdout",
     "output_type": "stream",
     "text": [
      "09/05/2023\n"
     ]
    }
   ],
   "source": [
    "date = (9,5,2023)\n",
    "print(f\"{date[0]:02}/{date[1]:02}/{date[2]}\")"
   ]
  },
  {
   "cell_type": "code",
   "execution_count": 33,
   "metadata": {},
   "outputs": [
    {
     "name": "stdout",
     "output_type": "stream",
     "text": [
      "03/15/2043\n"
     ]
    }
   ],
   "source": [
    "from datetime import datetime\n",
    "date = datetime(2043, 3, 15)\n",
    "print(f\"{date:%m/%d/%Y}\")"
   ]
  },
  {
   "cell_type": "markdown",
   "metadata": {},
   "source": [
    "# Classes"
   ]
  },
  {
   "cell_type": "markdown",
   "metadata": {},
   "source": [
    "You can influence and have a shortcut to print out __str__ and __repr__ representations of a class object"
   ]
  },
  {
   "cell_type": "code",
   "execution_count": 36,
   "metadata": {},
   "outputs": [
    {
     "name": "stdout",
     "output_type": "stream",
     "text": [
      "User Friendly ::: Hello Bug, you are a Frenchie\n",
      "Developer Friendly ::: Dog(name='Bug', breed=Frenchie)\n"
     ]
    }
   ],
   "source": [
    "class Dog:\n",
    "    def __init__(self, name, breed):\n",
    "        self.name = name\n",
    "        self.breed = breed\n",
    "    def __str__(self):\n",
    "        return f\"Hello {self.name}, you are a {self.breed}\"\n",
    "    def __repr__(self):\n",
    "        return f\"{type(self).__name__}(name='{self.name}', breed={self.breed})\"\n",
    "\n",
    "firstDog = Dog(\"Bug\", \"Frenchie\")\n",
    "print(f\"User Friendly ::: {firstDog!s}\")\n",
    "print(f\"Developer Friendly ::: {firstDog!r}\")"
   ]
  },
  {
   "cell_type": "markdown",
   "metadata": {},
   "source": [
    "# References\n",
    "[khuyentran1401.github.io](https://khuyentran1401.github.io/Efficient_Python_tricks_and_tools_for_data_scientists/README.html)\n"
   ]
  }
 ],
 "metadata": {
  "kernelspec": {
   "display_name": "Python 3",
   "language": "python",
   "name": "python3"
  },
  "language_info": {
   "codemirror_mode": {
    "name": "ipython",
    "version": 3
   },
   "file_extension": ".py",
   "mimetype": "text/x-python",
   "name": "python",
   "nbconvert_exporter": "python",
   "pygments_lexer": "ipython3",
   "version": "3.12.1"
  }
 },
 "nbformat": 4,
 "nbformat_minor": 2
}
